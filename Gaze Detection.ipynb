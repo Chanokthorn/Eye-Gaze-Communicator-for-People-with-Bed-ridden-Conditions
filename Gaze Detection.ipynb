{
 "cells": [
  {
   "cell_type": "code",
   "execution_count": 5,
   "metadata": {
    "collapsed": true
   },
   "outputs": [],
   "source": [
    "import dlib\n",
    "import numpy as np\n",
    "import cv2\n",
    "\n",
    "#returns coordinate of circles related to the given image\n",
    "def findIris(eye):\n",
    "    _,eye_img = cv2.threshold(eye,110,255,cv2.THRESH_BINARY)\n",
    "    cv2.imshow('bw',eye_img)\n",
    "    eye = cv2.medianBlur(eye_img, 5)\n",
    "    eye = cv2.Canny(eye,100,100)\n",
    "    rows = eye.shape[0]\n",
    "    circles = cv2.HoughCircles(eye, cv2.HOUGH_GRADIENT, 1, rows / 2,param1=100, param2=10,minRadius=1, maxRadius=40)\n",
    "    if(circles == None): return (None,eye_img)\n",
    "    cv2.imshow('Eye',eye)\n",
    "    return (circles[0,0],eye_img)\n",
    "def averageFromBuffer(data,coordinate):\n",
    "    for i in range (data.shape[0]-1):\n",
    "        data[i,:] = data[i+1,:]\n",
    "    data[data.shape[0]-1,:] = np.array([coordinate[0],coordinate[1]])\n",
    "    width = np.sum(data[:,0])/data.shape[0]\n",
    "    height = np.sum(data[:,1])/data.shape[0]\n",
    "    return (data,(width,height))\n",
    "def calibrate(data):\n",
    "    width = np.sum(data[:,0])/data.shape[0]\n",
    "    height = np.sum(data[:,1])/data.shape[0]\n",
    "    return (width,height)\n",
    "def calculateRelative(eye,coordinate):\n",
    "    width = int(coordinate[0] * eye.shape[1])\n",
    "    height = int(coordinate[1] * eye.shape[0])\n",
    "    return (width,height)\n",
    "def detectGaze(default, coordinate):\n",
    "    if(coordinate[0] > default[0] + 0.1): return 'gaze_left'\n",
    "    elif(coordinate[0] < default[0] - 0.1): return 'gaze_right'\n",
    "    else: return 'gaze_center'\n",
    "def eyeSum(eye):\n",
    "    eye = eye[int(eye.shape[0]/2):eye.shape[0],:]\n",
    "    return np.sum(np.sum(eye))\n",
    "def eyeSumAverage(data):\n",
    "    return int(np.sum(data[:,:])/data.shape[0])\n",
    "def detectUpwardGaze(defaultSum, currentSum):\n",
    "    if(currentSum > defaultSum * 1.3): return 'upward'\n",
    "    else: return 'normal'\n",
    "#     return 0"
   ]
  },
  {
   "cell_type": "code",
   "execution_count": 12,
   "metadata": {},
   "outputs": [
    {
     "name": "stderr",
     "output_type": "stream",
     "text": [
      "20/12/2017 05:08:15 PM INFO     Connected with result code 0\n",
      "20/12/2017 05:08:15 PM INFO     Auto subscribe /&id/AZtSEmLI1c3vGj3g/#\n",
      "20/12/2017 05:08:15 PM INFO     Auto subscribe /&id/AZtSEmLI1c3vGj3g/#\n",
      "20/12/2017 05:08:15 PM INFO     Auto subscribe /&id/AZtSEmLI1c3vGj3g/#\n",
      "20/12/2017 05:08:15 PM INFO     Auto subscribe /&id/AZtSEmLI1c3vGj3g/#\n",
      "20/12/2017 05:08:15 PM INFO     Auto subscribe /&id/AZtSEmLI1c3vGj3g/#\n",
      "20/12/2017 05:08:15 PM INFO     Auto subscribe /&id/AZtSEmLI1c3vGj3g/#\n",
      "20/12/2017 05:08:15 PM INFO     Auto subscribe /&id/AZtSEmLI1c3vGj3g/#\n",
      "20/12/2017 05:08:15 PM INFO     Auto subscribe /&id/AZtSEmLI1c3vGj3g/#\n",
      "20/12/2017 05:08:15 PM INFO     Auto subscribe /&id/AZtSEmLI1c3vGj3g/#\n",
      "20/12/2017 05:08:15 PM INFO     Diconnected with result code 1\n"
     ]
    },
    {
     "name": "stdout",
     "output_type": "stream",
     "text": [
      "[WinError 10054] An existing connection was forcibly closed by the remote host\n"
     ]
    },
    {
     "name": "stderr",
     "output_type": "stream",
     "text": [
      "20/12/2017 05:08:16 PM INFO     Connected with result code 0\n",
      "20/12/2017 05:08:16 PM INFO     Auto subscribe /&id/AZtSEmLI1c3vGj3g/#\n",
      "20/12/2017 05:08:16 PM INFO     Auto subscribe /&id/AZtSEmLI1c3vGj3g/#\n",
      "20/12/2017 05:08:16 PM INFO     Auto subscribe /&id/AZtSEmLI1c3vGj3g/#\n",
      "20/12/2017 05:08:16 PM INFO     Auto subscribe /&id/AZtSEmLI1c3vGj3g/#\n",
      "20/12/2017 05:08:16 PM INFO     Auto subscribe /&id/AZtSEmLI1c3vGj3g/#\n",
      "20/12/2017 05:08:16 PM INFO     Auto subscribe /&id/AZtSEmLI1c3vGj3g/#\n",
      "20/12/2017 05:08:16 PM INFO     Auto subscribe /&id/AZtSEmLI1c3vGj3g/#\n",
      "20/12/2017 05:08:16 PM INFO     Auto subscribe /&id/AZtSEmLI1c3vGj3g/#\n",
      "20/12/2017 05:08:16 PM INFO     Auto subscribe /&id/AZtSEmLI1c3vGj3g/#\n",
      "20/12/2017 05:08:16 PM INFO     Diconnected with result code 1\n"
     ]
    },
    {
     "name": "stdout",
     "output_type": "stream",
     "text": [
      "[WinError 10054] An existing connection was forcibly closed by the remote host\n"
     ]
    },
    {
     "name": "stderr",
     "output_type": "stream",
     "text": [
      "20/12/2017 05:08:18 PM INFO     Connected with result code 0\n",
      "20/12/2017 05:08:18 PM INFO     Auto subscribe /&id/AZtSEmLI1c3vGj3g/#\n",
      "20/12/2017 05:08:18 PM INFO     Auto subscribe /&id/AZtSEmLI1c3vGj3g/#\n",
      "20/12/2017 05:08:18 PM INFO     Auto subscribe /&id/AZtSEmLI1c3vGj3g/#\n",
      "20/12/2017 05:08:18 PM INFO     Auto subscribe /&id/AZtSEmLI1c3vGj3g/#\n",
      "20/12/2017 05:08:18 PM INFO     Auto subscribe /&id/AZtSEmLI1c3vGj3g/#\n",
      "20/12/2017 05:08:18 PM INFO     Auto subscribe /&id/AZtSEmLI1c3vGj3g/#\n",
      "20/12/2017 05:08:18 PM INFO     Auto subscribe /&id/AZtSEmLI1c3vGj3g/#\n",
      "20/12/2017 05:08:18 PM INFO     Auto subscribe /&id/AZtSEmLI1c3vGj3g/#\n",
      "20/12/2017 05:08:18 PM INFO     Auto subscribe /&id/AZtSEmLI1c3vGj3g/#\n",
      "20/12/2017 05:08:18 PM INFO     Diconnected with result code 1\n"
     ]
    },
    {
     "name": "stdout",
     "output_type": "stream",
     "text": [
      "[WinError 10054] An existing connection was forcibly closed by the remote host\n"
     ]
    },
    {
     "name": "stderr",
     "output_type": "stream",
     "text": [
      "20/12/2017 05:08:19 PM INFO     Connected with result code 0\n",
      "20/12/2017 05:08:19 PM INFO     Auto subscribe /&id/AZtSEmLI1c3vGj3g/#\n",
      "20/12/2017 05:08:19 PM INFO     Auto subscribe /&id/AZtSEmLI1c3vGj3g/#\n",
      "20/12/2017 05:08:19 PM INFO     Auto subscribe /&id/AZtSEmLI1c3vGj3g/#\n",
      "20/12/2017 05:08:19 PM INFO     Auto subscribe /&id/AZtSEmLI1c3vGj3g/#\n",
      "20/12/2017 05:08:19 PM INFO     Auto subscribe /&id/AZtSEmLI1c3vGj3g/#\n",
      "20/12/2017 05:08:19 PM INFO     Auto subscribe /&id/AZtSEmLI1c3vGj3g/#\n",
      "20/12/2017 05:08:19 PM INFO     Auto subscribe /&id/AZtSEmLI1c3vGj3g/#\n",
      "20/12/2017 05:08:19 PM INFO     Auto subscribe /&id/AZtSEmLI1c3vGj3g/#\n",
      "20/12/2017 05:08:19 PM INFO     Auto subscribe /&id/AZtSEmLI1c3vGj3g/#\n",
      "20/12/2017 05:08:19 PM INFO     Diconnected with result code 1\n"
     ]
    },
    {
     "name": "stdout",
     "output_type": "stream",
     "text": [
      "[WinError 10054] An existing connection was forcibly closed by the remote host\n"
     ]
    },
    {
     "name": "stderr",
     "output_type": "stream",
     "text": [
      "20/12/2017 05:08:20 PM INFO     Connected with result code 0\n",
      "20/12/2017 05:08:20 PM INFO     Auto subscribe /&id/AZtSEmLI1c3vGj3g/#\n",
      "20/12/2017 05:08:20 PM INFO     Auto subscribe /&id/AZtSEmLI1c3vGj3g/#\n",
      "20/12/2017 05:08:20 PM INFO     Auto subscribe /&id/AZtSEmLI1c3vGj3g/#\n",
      "20/12/2017 05:08:20 PM INFO     Auto subscribe /&id/AZtSEmLI1c3vGj3g/#\n",
      "20/12/2017 05:08:20 PM INFO     Auto subscribe /&id/AZtSEmLI1c3vGj3g/#\n",
      "20/12/2017 05:08:20 PM INFO     Auto subscribe /&id/AZtSEmLI1c3vGj3g/#\n",
      "20/12/2017 05:08:20 PM INFO     Auto subscribe /&id/AZtSEmLI1c3vGj3g/#\n",
      "20/12/2017 05:08:20 PM INFO     Auto subscribe /&id/AZtSEmLI1c3vGj3g/#\n",
      "20/12/2017 05:08:20 PM INFO     Auto subscribe /&id/AZtSEmLI1c3vGj3g/#\n",
      "20/12/2017 05:08:20 PM INFO     Diconnected with result code 1\n"
     ]
    },
    {
     "name": "stdout",
     "output_type": "stream",
     "text": [
      "[WinError 10054] An existing connection was forcibly closed by the remote host\n"
     ]
    },
    {
     "name": "stderr",
     "output_type": "stream",
     "text": [
      "C:\\Users\\Bone\\Anaconda3\\lib\\site-packages\\ipykernel_launcher.py:13: FutureWarning: comparison to `None` will result in an elementwise object comparison in the future.\n",
      "  del sys.path[0]\n",
      "C:\\Users\\Bone\\Anaconda3\\lib\\site-packages\\ipykernel_launcher.py:102: FutureWarning: comparison to `None` will result in an elementwise object comparison in the future.\n",
      "20/12/2017 05:08:22 PM INFO     Connected with result code 0\n",
      "20/12/2017 05:08:22 PM INFO     Auto subscribe /&id/AZtSEmLI1c3vGj3g/#\n",
      "20/12/2017 05:08:22 PM INFO     Auto subscribe /&id/AZtSEmLI1c3vGj3g/#\n",
      "20/12/2017 05:08:22 PM INFO     Auto subscribe /&id/AZtSEmLI1c3vGj3g/#\n",
      "20/12/2017 05:08:22 PM INFO     Auto subscribe /&id/AZtSEmLI1c3vGj3g/#\n",
      "20/12/2017 05:08:22 PM INFO     Auto subscribe /&id/AZtSEmLI1c3vGj3g/#\n",
      "20/12/2017 05:08:22 PM INFO     Auto subscribe /&id/AZtSEmLI1c3vGj3g/#\n",
      "20/12/2017 05:08:22 PM INFO     Auto subscribe /&id/AZtSEmLI1c3vGj3g/#\n",
      "20/12/2017 05:08:22 PM INFO     Auto subscribe /&id/AZtSEmLI1c3vGj3g/#\n",
      "20/12/2017 05:08:22 PM INFO     Auto subscribe /&id/AZtSEmLI1c3vGj3g/#\n",
      "20/12/2017 05:08:22 PM INFO     Diconnected with result code 1\n"
     ]
    },
    {
     "name": "stdout",
     "output_type": "stream",
     "text": [
      "[WinError 10054] An existing connection was forcibly closed by the remote host\n"
     ]
    },
    {
     "name": "stderr",
     "output_type": "stream",
     "text": [
      "20/12/2017 05:08:23 PM INFO     Connected with result code 0\n",
      "20/12/2017 05:08:23 PM INFO     Auto subscribe /&id/AZtSEmLI1c3vGj3g/#\n",
      "20/12/2017 05:08:23 PM INFO     Auto subscribe /&id/AZtSEmLI1c3vGj3g/#\n",
      "20/12/2017 05:08:23 PM INFO     Auto subscribe /&id/AZtSEmLI1c3vGj3g/#\n",
      "20/12/2017 05:08:23 PM INFO     Auto subscribe /&id/AZtSEmLI1c3vGj3g/#\n",
      "20/12/2017 05:08:23 PM INFO     Auto subscribe /&id/AZtSEmLI1c3vGj3g/#\n",
      "20/12/2017 05:08:23 PM INFO     Auto subscribe /&id/AZtSEmLI1c3vGj3g/#\n",
      "20/12/2017 05:08:23 PM INFO     Auto subscribe /&id/AZtSEmLI1c3vGj3g/#\n",
      "20/12/2017 05:08:23 PM INFO     Auto subscribe /&id/AZtSEmLI1c3vGj3g/#\n",
      "20/12/2017 05:08:23 PM INFO     Auto subscribe /&id/AZtSEmLI1c3vGj3g/#\n",
      "20/12/2017 05:08:23 PM INFO     Diconnected with result code 1\n"
     ]
    },
    {
     "name": "stdout",
     "output_type": "stream",
     "text": [
      "[WinError 10054] An existing connection was forcibly closed by the remote host\n"
     ]
    }
   ],
   "source": [
    " \n",
    "import sys\n",
    "sys.path.insert(0, \"/opt/intel/mkl/lib/intel64\")\n",
    "sys.path.insert(0, \"/usr/local/lib/python3.6/site-packages\")\n",
    " \n",
    "import dlib\n",
    "import numpy as np\n",
    "import cv2\n",
    "import microgear.client as microgear\n",
    "import logging\n",
    "import time\n",
    " \n",
    "def dlibFacelandmarkToNumpy(shape, dtype=\"int\"):\n",
    "    coords = np.zeros((68, 2), dtype=dtype)\n",
    " \n",
    "    for i in range(0, 68):\n",
    "        coords[i] = (shape.part(i).x, shape.part(i).y)\n",
    " \n",
    "    return coords\n",
    " \n",
    "detector = dlib.get_frontal_face_detector()\n",
    "predictor = dlib.shape_predictor(\"shape_predictor_68_face_landmarks.dat\")\n",
    "appid = 'Helloworld01'\n",
    "gearkey = 'CPJdTU6aR6CzHmi'\n",
    "gearsecret =  'sap8rSrrth6ywnlxxy4xYLADM'\n",
    "\n",
    "microgear.create(gearkey,gearsecret,appid, {'debugmode': True, 'scope': \"r:/outdoor/temp,w:/outdoor/valve,name:logger,chat:plant\", 'alias': \"logger\"})\n",
    "# def connection():\n",
    "#     logging.info(\"Now I am connected with netpie\")\n",
    "\n",
    "# def subscription(topic,message):\n",
    "#     logging.info(topic+\" \"+message)\n",
    "\n",
    "# def disconnect():\n",
    "#     logging.info(\"disconnected\")\n",
    "\n",
    "# microgear.setalias(\"doraemon\")\n",
    "# microgear.on_connect = connection\n",
    "# microgear.on_message = subscription\n",
    "# microgear.on_disconnect = disconnect\n",
    "# microgear.subscribe(\"/mails\")\n",
    "# microgear.connect(True)\n",
    "microgear.connect()\n",
    "# while True:\n",
    "#     microgear.chat(\"doraemon\",\"Hello world. \"+str(int(time.time())))\n",
    "\n",
    "\n",
    "\n",
    "\n",
    "videoInput = cv2.VideoCapture(0)\n",
    "web = 'DigitalOUTPUT_HTML_web'\n",
    "# loop over the frames from the video stream\n",
    "#buffers\n",
    "left_iris_buffer_size = 5\n",
    "left_iris_buffer_count = 0\n",
    "left_iris_buffer = np.ndarray((4,2))\n",
    "#calibrations\n",
    "calibrate_count = 0\n",
    "calibrate_amount = 40\n",
    "calibrate_data = np.ndarray((calibrate_amount,2))\n",
    "sum_data = np.ndarray((calibrate_amount,1))\n",
    "calibrated = False\n",
    "while True:\n",
    " \n",
    "    _,frame = videoInput.read()\n",
    "   \n",
    "    gray = cv2.cvtColor(frame, cv2.COLOR_BGR2GRAY)\n",
    " \n",
    "    rects = detector(gray, 0)\n",
    "    # loop over the face detections\n",
    "    face_found = False\n",
    "    for rect in rects:\n",
    "        #initial booleans\n",
    "        left_iris_found = False\n",
    "        right_iris_found = False\n",
    "        \n",
    "        face_found = True\n",
    "        # determine the facial landmarks for the face region, then\n",
    "        # convert the facial landmark (x, y)-coordinates to a NumPy\n",
    "        # array\n",
    "        shape = predictor(gray, rect)\n",
    "        #print(shape)\n",
    "        shape = dlibFacelandmarkToNumpy(shape)\n",
    " \n",
    "        # loop over the (x, y)-coordinates for the facial landmarks\n",
    "        # and draw them on the image\n",
    " \n",
    "        xL,yL,wL,hL = cv2.boundingRect(shape[36:41,:])\n",
    "        left_eye = gray[yL:yL+hL,xL:xL+wL]\n",
    "        left_eye_color = frame[yL:yL+hL,xL:xL+wL]\n",
    "        cv2.rectangle(frame,(xL,yL),(xL+wL,yL+hL),(0,255,0),2)\n",
    " \n",
    "        xR,yR,wR,hR = cv2.boundingRect(shape[42:47,:])\n",
    "        right_eye = gray[yR:yR+hR,xR:xR+wR]\n",
    "        right_eye_color = frame[yR:yR+hR,xR:xR+wR]\n",
    "        cv2.rectangle(frame,(xR,yR),(xR+wR,yR+hR),(0,255,0),2)\n",
    "        #for (x, y) in shape:\n",
    "        #   cv2.circle(frame, (x, y), 1, (0, 0, 255), -1)\n",
    "        \n",
    "        #check for iris\n",
    "        (left_iris,left_eye_bw) = findIris(left_eye)\n",
    "        if(left_iris != None): left_iris_found = True\n",
    "#         right_iris = findIris(right_eye)\n",
    "#         if(right_iris != None): right_iris_found = True\n",
    "        \n",
    "        current_left_eye_sum = eyeSum(left_eye_bw)\n",
    "        #draw the iris\n",
    "        if(calibrated):\n",
    "            gazeVertical = detectUpwardGaze(sum_average,current_left_eye_sum)\n",
    "            if(gazeVertical == 'upward'):\n",
    "                microgear.chat(\"DigitalOUTPUT_HTML_web\",\"camera_up\")\n",
    "                print('upward')\n",
    "                continue\n",
    "        if(left_iris_found):\n",
    "            \n",
    "#             print(left_iris[0],left_eye.shape[1], left_iris[1], left_eye.shape[0])\n",
    "            left_iris_center = (left_iris[0]/left_eye.shape[1],left_iris[1]/left_eye.shape[0])\n",
    "            if(left_iris_buffer_count < left_iris_buffer_size):\n",
    "                left_iris_buffer_count += 1\n",
    "            else:\n",
    "                (left_iris_buffer,left_iris_center) = averageFromBuffer(left_iris_buffer,left_iris_center)\n",
    "            relative_left_iris_center = calculateRelative(left_eye, left_iris_center)\n",
    "            cv2.circle(left_eye_color, relative_left_iris_center, 1, (255, 0, 255), 3)\n",
    "            if(calibrate_count < calibrate_amount):\n",
    "                sum_data[calibrate_count,0] = current_left_eye_sum\n",
    "                calibrate_data[calibrate_count,:] = left_iris_center\n",
    "                calibrate_count += 1\n",
    "            elif(calibrate_count == calibrate_amount):\n",
    "#                 calibrate_data[calibrate_count,:] = left_iris_center\n",
    "#                 print(calibrate_data)\n",
    "                sum_average = eyeSumAverage(sum_data)\n",
    "                left_iris_default = calibrate(calibrate_data)\n",
    "                print(left_iris_default)\n",
    "                calibrated = True\n",
    "                print('calibrated')\n",
    "                print('sum average:',sum_average)\n",
    "                calibrate_count += 1\n",
    "#         if(right_iris_found): cv2.circle(left_eye, (left_iris[0],left_iris[1]), left_iris[2], (255, 0, 255), 2)\n",
    "#         if(calibrated): print('current sum',current_left_eye_sum)\n",
    "        if(calibrated and left_iris_found):\n",
    "            relative_left_iris_default = calculateRelative(left_eye, left_iris_default)\n",
    "            gazeDirection = detectGaze(left_iris_default, left_iris_center)\n",
    "            if(gazeDirection == 'gaze_left'):\n",
    "                microgear.chat(\"DigitalOUTPUT_HTML_web\",\"camera_left\")\n",
    "                print('left')\n",
    "            elif(gazeDirection == 'gaze_right'):\n",
    "                microgear.chat(\"DigitalOUTPUT_HTML_web\",\"camera_right\")\n",
    "                print('right')\n",
    "            else:\n",
    "                microgear.chat(\"DigitalOUTPUT_HTML_web\",\"camera_center\")\n",
    "        \n",
    "#             print('horizontal: ',gazeDirection,end='\\r')\n",
    "#         if(calibrated): \n",
    "#             print('vertical: ',verticalDirection,end='\\s\\r')\n",
    "        #check eye size for downward\n",
    "     \n",
    "    # show the frame\n",
    "    cv2.imshow(\"Frame\", frame)\n",
    "    if(calibrated):\n",
    "        if(left_iris_found): (cv2.circle(left_eye_color, relative_left_iris_default, 1, (0, 0, 255), 3))\n",
    "    if(face_found): \n",
    "        cv2.imshow('Left Eye',left_eye_color)\n",
    "#         cv2.imshow('Right Eye',right_eye_color)\n",
    "    key = cv2.waitKey(1) & 0xFF\n",
    " \n",
    "    # if the `q` key was pressed, break from the loop\n",
    "    if key == ord(\"q\"):\n",
    "        break\n",
    "# do a bit of cleanup\n",
    "cv2.destroyAllWindows()\n",
    "videoInput.release()\n",
    "microgear.disconnect()"
   ]
  },
  {
   "cell_type": "code",
   "execution_count": 14,
   "metadata": {},
   "outputs": [
    {
     "data": {
      "text/plain": [
       "'C:\\\\Users\\\\Bone'"
      ]
     },
     "execution_count": 14,
     "metadata": {},
     "output_type": "execute_result"
    }
   ],
   "source": [
    "import os\n",
    "os.getcwd()"
   ]
  }
 ],
 "metadata": {
  "kernelspec": {
   "display_name": "Python 3",
   "language": "python",
   "name": "python3"
  },
  "language_info": {
   "codemirror_mode": {
    "name": "ipython",
    "version": 3
   },
   "file_extension": ".py",
   "mimetype": "text/x-python",
   "name": "python",
   "nbconvert_exporter": "python",
   "pygments_lexer": "ipython3",
   "version": "3.6.1"
  }
 },
 "nbformat": 4,
 "nbformat_minor": 2
}
